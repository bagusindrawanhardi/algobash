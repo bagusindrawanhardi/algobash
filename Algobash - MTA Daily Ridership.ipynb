{
 "cells": [
  {
   "cell_type": "code",
   "execution_count": 1,
   "id": "f02c1863",
   "metadata": {},
   "outputs": [
    {
     "name": "stdout",
     "output_type": "stream",
     "text": [
      "Downloading dataset …\n",
      "Rows: 1,776   Columns: 15\n",
      "\n",
      "Cleaned column names:\n",
      "['date', 'subways_total_estimated_ridership', 'subways_of_comparable_pre_pandemic_day', 'buses_total_estimated_ridersip', 'buses_of_comparable_pre_pandemic_day', 'lirr_total_estimated_ridership', 'lirr_of_comparable_pre_pandemic_day', 'metro_north_total_estimated_ridership', 'metro_north_of_comparable_pre_pandemic_day', 'access_a_ride_total_scheduled_trips', 'access_a_ride_of_comparable_pre_pandemic_day', 'bridges_and_tunnels_total_traffic', 'bridges_and_tunnels_of_comparable_pre_pandemic_day', 'staten_island_railway_total_estimated_ridership', 'staten_island_railway_of_comparable_pre_pandemic_day']\n"
     ]
    }
   ],
   "source": [
    "# %% ------------------------------------------------------------------\n",
    "# SECTION 1 – LOAD & INSPECT THE DATA  (answers Q1)\n",
    "# ---------------------------------------------------------------------\n",
    "import re\n",
    "import pandas as pd\n",
    "import numpy as np\n",
    "import matplotlib.pyplot as plt\n",
    "import seaborn as sns\n",
    "from scipy import stats\n",
    "from statsmodels.tsa.seasonal import STL\n",
    "from sklearn.ensemble import RandomForestRegressor\n",
    "from sklearn.model_selection import TimeSeriesSplit, GridSearchCV\n",
    "from sklearn.metrics import mean_absolute_error\n",
    "\n",
    "pd.set_option(\"display.max_columns\", None)\n",
    "plt.style.use(\"ggplot\")\n",
    "\n",
    "DATA_URL = \"https://data.ny.gov/resource/vxuj-8kew.csv?$limit=200000\"\n",
    "print(\"Downloading dataset …\")\n",
    "raw = pd.read_csv(DATA_URL)\n",
    "print(f\"Rows: {len(raw):,}   Columns: {len(raw.columns)}\")\n",
    "\n",
    "_non_alnum = re.compile(r\"[^a-z0-9]+\")\n",
    "def clean_col(col: str) -> str:\n",
    "    col = col.lower()\n",
    "    col = _non_alnum.sub(\"_\", col)\n",
    "    return re.sub(r\"_+\", \"_\", col).strip(\"_\")\n",
    "\n",
    "raw.columns = [clean_col(c) for c in raw.columns]\n",
    "df = raw.copy()\n",
    "df[\"date\"] = pd.to_datetime(df[\"date\"])\n",
    "\n",
    "print(\"\\nCleaned column names:\")\n",
    "print(df.columns.tolist())\n"
   ]
  },
  {
   "cell_type": "code",
   "execution_count": 2,
   "id": "e21cc7a8",
   "metadata": {},
   "outputs": [
    {
     "name": "stdout",
     "output_type": "stream",
     "text": [
      "\n",
      "Target column: subways_of_comparable_pre_pandemic_day\n",
      "\n",
      "Feature preview:\n",
      "         date  subways_of_comparable_pre_pandemic_day  dow  month  is_weekend  \\\n",
      "30 2020-03-31                                    0.09    1      3           0   \n",
      "31 2020-04-01                                    0.09    2      4           0   \n",
      "32 2020-04-02                                    0.09    3      4           0   \n",
      "33 2020-04-03                                    0.09    4      4           0   \n",
      "34 2020-04-04                                    0.09    5      4           1   \n",
      "\n",
      "    lag1  lag7  lag30  \n",
      "30  0.10  0.13   0.97  \n",
      "31  0.09  0.12   0.96  \n",
      "32  0.09  0.12   0.98  \n",
      "33  0.09  0.12   0.99  \n",
      "34  0.09  0.11   0.99  \n"
     ]
    }
   ],
   "source": [
    "# %% ------------------------------------------------------------------\n",
    "# SECTION 2 – SELECT TARGET & BUILD FEATURES  (answers Q2)\n",
    "# ---------------------------------------------------------------------\n",
    "MODE = \"subways\"          \n",
    "\n",
    "def find_pct_col(mode: str) -> str:\n",
    "    pattern = rf\"^{mode}.*of_comparable_pre_pandemic_day$\"\n",
    "    matches = [c for c in df.columns if re.match(pattern, c)]\n",
    "    if not matches:\n",
    "        raise KeyError(f\"No column matches {pattern}\")\n",
    "    return matches[0]\n",
    "\n",
    "TARGET = find_pct_col(MODE)\n",
    "print(f\"\\nTarget column: {TARGET}\")\n",
    "\n",
    "feat = df[[\"date\", TARGET]].copy()\n",
    "feat[\"dow\"]        = feat[\"date\"].dt.dayofweek\n",
    "feat[\"month\"]      = feat[\"date\"].dt.month\n",
    "feat[\"is_weekend\"] = feat[\"dow\"].isin([5, 6]).astype(int)\n",
    "\n",
    "for lag in (1, 7, 30):\n",
    "    feat[f\"lag{lag}\"] = feat[TARGET].shift(lag)\n",
    "\n",
    "feat.dropna(inplace=True)\n",
    "print(\"\\nFeature preview:\")\n",
    "print(feat.head())"
   ]
  },
  {
   "cell_type": "code",
   "execution_count": 3,
   "id": "6b06c676",
   "metadata": {},
   "outputs": [
    {
     "name": "stdout",
     "output_type": "stream",
     "text": [
      "\n",
      "T-test – weekend vs weekday:\n",
      "  t = 7.64,  p = 0.0000\n"
     ]
    }
   ],
   "source": [
    "# %% ------------------------------------------------------------------\n",
    "# SECTION 3 – WEEKEND vs WEEKDAY T-TEST  (answers Q3)\n",
    "# ---------------------------------------------------------------------\n",
    "weekend = feat[feat[\"is_weekend\"] == 1][TARGET]\n",
    "weekday = feat[feat[\"is_weekend\"] == 0][TARGET]\n",
    "t_stat, p_val = stats.ttest_ind(weekend, weekday, equal_var=False)\n",
    "print(f\"\\nT-test – weekend vs weekday:\\n  t = {t_stat:.2f},  p = {p_val:.4f}\")"
   ]
  },
  {
   "cell_type": "code",
   "execution_count": null,
   "id": "481b5423",
   "metadata": {},
   "outputs": [],
   "source": [
    "# %% ------------------------------------------------------------------\n",
    "# SECTION 4 – RANDOM-FOREST FORECAST MODEL  (answers Q4)\n",
    "# ---------------------------------------------------------------------\n",
    "X = feat.drop(columns=[\"date\", TARGET])\n",
    "y = feat[TARGET]\n",
    "\n",
    "tscv = TimeSeriesSplit(n_splits=5)\n",
    "grid   = {\"n_estimators\": [200], \"max_depth\": [10, None]}\n",
    "rf     = RandomForestRegressor(random_state=42, n_jobs=-1)\n",
    "search = GridSearchCV(rf, grid, cv=tscv, scoring=\"neg_mean_absolute_error\")\n",
    "search.fit(X, y)\n",
    "\n",
    "print(\"\\nBest hyper-parameters:\", search.best_params_)\n",
    "\n",
    "split   = int(len(X) * 0.8)\n",
    "X_tr, X_te = X.iloc[:split], X.iloc[split:]\n",
    "y_tr, y_te = y.iloc[:split], y.iloc[split:]\n",
    "\n",
    "best = search.best_estimator_.fit(X_tr, y_tr)\n",
    "mae_tr = mean_absolute_error(y_tr, best.predict(X_tr))\n",
    "mae_te = mean_absolute_error(y_te, best.predict(X_te))\n",
    "print(f\"MAE train = {mae_tr:.2f}\")\n",
    "print(f\"MAE test  = {mae_te :.2f}\")"
   ]
  },
  {
   "cell_type": "code",
   "execution_count": null,
   "id": "6b52e2c8",
   "metadata": {},
   "outputs": [],
   "source": [
    "# %% ------------------------------------------------------------------\n",
    "# SECTION 5 – OVERFITTING CHECK  (answers Q5)\n",
    "# ---------------------------------------------------------------------\n",
    "print(\"\\nOver-fitting gap (train − test MAE):\", round(mae_tr - mae_te, 2))"
   ]
  },
  {
   "cell_type": "code",
   "execution_count": null,
   "id": "72d90777",
   "metadata": {},
   "outputs": [],
   "source": [
    "# %% ------------------------------------------------------------------\n",
    "# SECTION 6 – LIRR TREND ANALYSIS  (answers Q6)\n",
    "# ---------------------------------------------------------------------\n",
    "col_lirr = find_pct_col(\"lirr\")\n",
    "lirr = df[[\"date\", col_lirr]].dropna().set_index(\"date\")\n",
    "trend = STL(lirr[col_lirr], period=7).fit().trend\n",
    "trend.plot(title=\"LIRR – Trend (% of 2019 baseline)\")\n",
    "plt.tight_layout();\n",
    "plt.show()"
   ]
  },
  {
   "cell_type": "code",
   "execution_count": null,
   "id": "0088efd2",
   "metadata": {},
   "outputs": [],
   "source": [
    "# %% ------------------------------------------------------------------\n",
    "# SECTION 7 – RECOVERY CURVES FOR ALL MODES  (answers Q7)\n",
    "# ---------------------------------------------------------------------\n",
    "modes = [\"subways\", \"buses\", \"lirr\", \"metro_north\",\n",
    "         \"access_a_ride\", \"bridges_and_tunnels\"]\n",
    "\n",
    "recovery_cols = [find_pct_col(m) for m in modes]\n",
    "recovery = df[[\"date\"] + recovery_cols].set_index(\"date\").rolling(30).mean()\n",
    "recovery.plot(figsize=(12, 6),\n",
    "              title=\"30-Day Rolling Recovery vs 2019 (All Modes)\")\n",
    "plt.ylabel(\"% of 2019 baseline\")\n",
    "plt.tight_layout();\n",
    "plt.show()"
   ]
  }
 ],
 "metadata": {
  "kernelspec": {
   "display_name": "Python 3 (ipykernel)",
   "language": "python",
   "name": "python3"
  },
  "language_info": {
   "codemirror_mode": {
    "name": "ipython",
    "version": 3
   },
   "file_extension": ".py",
   "mimetype": "text/x-python",
   "name": "python",
   "nbconvert_exporter": "python",
   "pygments_lexer": "ipython3",
   "version": "3.11.5"
  }
 },
 "nbformat": 4,
 "nbformat_minor": 5
}
